{
 "cells": [
  {
   "cell_type": "markdown",
   "metadata": {},
   "source": [
    "Install these library on TERMINAL if you haven't install\n",
    "\n",
    "pip install matplotlib tensorflow opency-python scikit-learn scikit-image pillow pandas\n",
    "\n",
    "\n",
    "For Window Linux Subsystem user:\n",
    "1. Display plot from matplotlib require Xming Server running.\n",
    "2. Download (Xming)[https://sourceforge.net/projects/xming/]\n",
    "3. Update .bashrc\n",
    "    vim ~/.bashrc\n",
    "4. Append at the end of the file\n",
    "    export DISPLAY=:0\n",
    "\n"
   ]
  },
  {
   "cell_type": "code",
   "execution_count": null,
   "metadata": {},
   "outputs": [],
   "source": [
    "import pandas as pd\n",
    "import numpy as np\n",
    "import tensorflow as tf\n",
    "import matplotlib as mpl\n",
    "import matplotlib.pyplot as plt\n",
    "import json\n",
    "import os\n",
    "import cv2"
   ]
  },
  {
   "cell_type": "code",
   "execution_count": null,
   "metadata": {},
   "outputs": [],
   "source": [
    "from PIL import Image\n",
    "from skimage.feature import hog\n",
    "from skimage.color import rgb2grey"
   ]
  },
  {
   "cell_type": "code",
   "execution_count": null,
   "metadata": {},
   "outputs": [],
   "source": [
    "from sklearn.model_selection import train_test_split\n",
    "from sklearn.metrics import accuracy_score\n",
    "from sklearn.preprocessing import StandardScaler\n",
    "from sklearn.decomposition import PCA\n",
    "from sklearn.svm import SVC\n",
    "from sklearn.metrics import roc_curve, auc"
   ]
  },
  {
   "cell_type": "code",
   "execution_count": null,
   "metadata": {},
   "outputs": [],
   "source": [
    "# check for tkinter\n",
    "if os.environ.get('DISPLAY','') == '':\n",
    "    print('no display found. Using non-interactive Agg backend')\n",
    "    mpl.use('Agg')"
   ]
  },
  {
   "cell_type": "code",
   "execution_count": null,
   "metadata": {},
   "outputs": [],
   "source": [
    "# Global variables\n",
    "parent_dir = \"/mnt/c/Users/nhmin/Downloads/food-101/\""
   ]
  },
  {
   "cell_type": "markdown",
   "metadata": {},
   "source": [
    "`get_image()` taken in image path and return numpy array of the image"
   ]
  },
  {
   "cell_type": "code",
   "execution_count": null,
   "metadata": {},
   "outputs": [],
   "source": [
    "def get_image(path):\n",
    "    # image size = 512x512x3 for food-101 dataset\n",
    "    img = Image.open(path + \".jpg\")\n",
    "    wid, hei = img.size\n",
    "    return np.array(img)"
   ]
  },
  {
   "cell_type": "markdown",
   "metadata": {},
   "source": [
    "I started off with loading data from **train.json** into `dictionary{label:[image_dir]`. We will use (Histogram of Oriented Gradient (HOG))[https://scikit-image.org/docs/dev/api/skimage.feature.html#skimage.feature.hog] of every image flatten into 1-D array and form a new return data as `dictionary{label: [image_name,[hog_array]]}`."
   ]
  },
  {
   "cell_type": "code",
   "execution_count": null,
   "metadata": {},
   "outputs": [],
   "source": [
    "def load_train_data():\n",
    "    final_data = dict()\n",
    "    # Load in json file to create dictionary: key = class label; value = file path\n",
    "    fileName = parent_dir + \"/meta/train.json\"\n",
    "    with open(fileName, 'r') as file:\n",
    "        data = json.load(file)\n",
    "    # get label list\n",
    "    labels = list(data.keys()) \n",
    "    for label in labels:\n",
    "        final_data.setdefault(label, [])\n",
    "        for image in data.get(label):\n",
    "            file_name = image.split('/')[1]\n",
    "            file_image = get_image(parent_dir + \"images/\" + image)\n",
    "            # given 32x32 cell\n",
    "            image_feature, image_hog = hog(file_image, orientations=8, pixels_per_cell=(16, 16),\n",
    "                    cells_per_block=(8, 8), block_norm = 'L2-Hys', visualize=True, multichannel=True)\n",
    "            final_data.get(label).append([file_name, image_feature])\n",
    "            print(image)\n",
    "    return final_data\n",
    "    # print(final_data)"
   ]
  }
 ],
 "metadata": {
  "kernelspec": {
   "display_name": "Python 3",
   "language": "python",
   "name": "python3"
  },
  "language_info": {
   "codemirror_mode": {
    "name": "ipython",
    "version": 3
   },
   "file_extension": ".py",
   "mimetype": "text/x-python",
   "name": "python",
   "nbconvert_exporter": "python",
   "pygments_lexer": "ipython3",
   "version": "3.7.4"
  }
 },
 "nbformat": 4,
 "nbformat_minor": 2
}
